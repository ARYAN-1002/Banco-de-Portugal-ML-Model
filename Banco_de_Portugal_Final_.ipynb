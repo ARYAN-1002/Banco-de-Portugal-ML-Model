{
  "nbformat": 4,
  "nbformat_minor": 0,
  "metadata": {
    "colab": {
      "provenance": [],
      "authorship_tag": "ABX9TyNeG5qKmyjPEBxsROehGngF",
      "include_colab_link": true
    },
    "kernelspec": {
      "name": "python3",
      "display_name": "Python 3"
    },
    "language_info": {
      "name": "python"
    }
  },
  "cells": [
    {
      "cell_type": "markdown",
      "metadata": {
        "id": "view-in-github",
        "colab_type": "text"
      },
      "source": [
        "<a href=\"https://colab.research.google.com/github/ARYAN-1002/Banco-de-Portugal-ML-Model/blob/main/Banco_de_Portugal_Final_.ipynb\" target=\"_parent\"><img src=\"https://colab.research.google.com/assets/colab-badge.svg\" alt=\"Open In Colab\"/></a>"
      ]
    },
    {
      "cell_type": "code",
      "source": [],
      "metadata": {
        "id": "ZQkRLFm1WQS4"
      },
      "execution_count": null,
      "outputs": []
    },
    {
      "cell_type": "code",
      "execution_count": null,
      "metadata": {
        "colab": {
          "base_uri": "https://localhost:8080/",
          "height": 297
        },
        "id": "i-RS9CLUAoXF",
        "outputId": "8dd97eb1-731a-4c4f-bc2e-9e0f9490861e"
      },
      "outputs": [
        {
          "output_type": "error",
          "ename": "FileNotFoundError",
          "evalue": "[Errno 2] No such file or directory: '/content/bank-full.csv'",
          "traceback": [
            "\u001b[0;31m---------------------------------------------------------------------------\u001b[0m",
            "\u001b[0;31mFileNotFoundError\u001b[0m                         Traceback (most recent call last)",
            "\u001b[0;32m<ipython-input-1-a1cb7cbe4172>\u001b[0m in \u001b[0;36m<cell line: 40>\u001b[0;34m()\u001b[0m\n\u001b[1;32m     43\u001b[0m \u001b[0;34m\u001b[0m\u001b[0m\n\u001b[1;32m     44\u001b[0m     \u001b[0;31m# Call the function to structure the CSV and download it\u001b[0m\u001b[0;34m\u001b[0m\u001b[0;34m\u001b[0m\u001b[0m\n\u001b[0;32m---> 45\u001b[0;31m     \u001b[0mconvert_unstructured_to_structured\u001b[0m\u001b[0;34m(\u001b[0m\u001b[0munstructured_file\u001b[0m\u001b[0;34m)\u001b[0m\u001b[0;34m\u001b[0m\u001b[0;34m\u001b[0m\u001b[0m\n\u001b[0m",
            "\u001b[0;32m<ipython-input-1-a1cb7cbe4172>\u001b[0m in \u001b[0;36mconvert_unstructured_to_structured\u001b[0;34m(input_file, output_file)\u001b[0m\n\u001b[1;32m      7\u001b[0m     \u001b[0;31m# Step 1: Read the unstructured CSV file\u001b[0m\u001b[0;34m\u001b[0m\u001b[0;34m\u001b[0m\u001b[0m\n\u001b[1;32m      8\u001b[0m     \u001b[0munstructured_data\u001b[0m \u001b[0;34m=\u001b[0m \u001b[0;34m[\u001b[0m\u001b[0;34m]\u001b[0m\u001b[0;34m\u001b[0m\u001b[0;34m\u001b[0m\u001b[0m\n\u001b[0;32m----> 9\u001b[0;31m     \u001b[0;32mwith\u001b[0m \u001b[0mopen\u001b[0m\u001b[0;34m(\u001b[0m\u001b[0minput_file\u001b[0m\u001b[0;34m,\u001b[0m \u001b[0;34m'r'\u001b[0m\u001b[0;34m)\u001b[0m \u001b[0;32mas\u001b[0m \u001b[0mfile\u001b[0m\u001b[0;34m:\u001b[0m\u001b[0;34m\u001b[0m\u001b[0;34m\u001b[0m\u001b[0m\n\u001b[0m\u001b[1;32m     10\u001b[0m         \u001b[0mreader\u001b[0m \u001b[0;34m=\u001b[0m \u001b[0mcsv\u001b[0m\u001b[0;34m.\u001b[0m\u001b[0mreader\u001b[0m\u001b[0;34m(\u001b[0m\u001b[0mfile\u001b[0m\u001b[0;34m)\u001b[0m\u001b[0;34m\u001b[0m\u001b[0;34m\u001b[0m\u001b[0m\n\u001b[1;32m     11\u001b[0m         \u001b[0;32mfor\u001b[0m \u001b[0mrow\u001b[0m \u001b[0;32min\u001b[0m \u001b[0mreader\u001b[0m\u001b[0;34m:\u001b[0m\u001b[0;34m\u001b[0m\u001b[0;34m\u001b[0m\u001b[0m\n",
            "\u001b[0;31mFileNotFoundError\u001b[0m: [Errno 2] No such file or directory: '/content/bank-full.csv'"
          ]
        }
      ],
      "source": [
        "import pandas as pd\n",
        "import csv\n",
        "from google.colab import files  # Only for Google Colab\n",
        "\n",
        "def convert_unstructured_to_structured(input_file, output_file='structured_file.csv'):\n",
        "\n",
        "    # Step 1: Read the unstructured CSV file\n",
        "    unstructured_data = []\n",
        "    with open(input_file, 'r') as file:\n",
        "        reader = csv.reader(file)\n",
        "        for row in reader:\n",
        "            unstructured_data.append(row)\n",
        "\n",
        "    # Step 2: Process and structure the data\n",
        "    # Assuming unstructured data has a pattern you want to structure into rows and columns.\n",
        "    # Below is a simple example where every two rows in the unstructured file are treated as a single structured row.\n",
        "\n",
        "    structured_data = []\n",
        "\n",
        "    # Example: If every 2 lines should be grouped together\n",
        "    for i in range(0, len(unstructured_data), 2):\n",
        "        try:\n",
        "            structured_row = unstructured_data[i] + unstructured_data[i+1]\n",
        "            structured_data.append(structured_row)\n",
        "        except IndexError:\n",
        "            pass  # In case of uneven row count, skip the last row\n",
        "\n",
        "    # Step 3: Convert the structured data into a DataFrame\n",
        "    structured_df = pd.DataFrame(structured_data)\n",
        "\n",
        "    # Step 4: Save the structured data to a new CSV file\n",
        "    structured_df.to_csv(output_file, index=False)\n",
        "\n",
        "    print(f\"Structured CSV file '{output_file}' created successfully.\")\n",
        "\n",
        "    # Step 5: Download the CSV file to local (for Google Colab environments)\n",
        "    files.download(output_file)\n",
        "\n",
        "# Usage in Jupyter Notebook or Google Colab\n",
        "if __name__ == \"__main__\":\n",
        "    # Specify the unstructured CSV file name or path\n",
        "    unstructured_file = '/content/bank-full.csv'  # Replace with your file path\n",
        "\n",
        "    # Call the function to structure the CSV and download it\n",
        "    convert_unstructured_to_structured(unstructured_file)\n"
      ]
    },
    {
      "cell_type": "code",
      "source": [
        "import pandas as pd\n",
        "from sklearn.model_selection import train_test_split\n",
        "from sklearn.preprocessing import OneHotEncoder\n",
        "from imblearn.over_sampling import SMOTE\n",
        "from imblearn.under_sampling import RandomUnderSampler\n",
        "from imblearn.pipeline import Pipeline\n",
        "import xgboost as xgb\n",
        "from sklearn.metrics import accuracy_score, classification_report, confusion_matrix\n",
        "import matplotlib.pyplot as plt\n",
        "import seaborn as sns\n",
        "\n",
        "# Load the dataset\n",
        "file_path = '/content/bank_cleaned.csv'  # Path to the uploaded dataset\n",
        "data = pd.read_csv(file_path)\n",
        "\n",
        "# Check available columns and data types\n",
        "print(\"Columns in the dataset:\", data.columns)\n",
        "print(data.dtypes)\n",
        "\n",
        "# Data Preprocessing\n",
        "data.drop('duration', axis=1, inplace=True)  # Dropping the 'duration' column\n",
        "\n",
        "# Create a contact frequency feature\n",
        "data['contact_frequency'] = data['campaign'] / (data['age'] + 1)\n",
        "\n",
        "# Prepare features and target\n",
        "X = data.drop(['response', 'response_binary', 'Unnamed: 0'], axis=1)  # Dropping irrelevant columns\n",
        "y = data['response_binary']  # Assuming you want to predict the binary response\n",
        "\n",
        "# One-hot encode categorical variables\n",
        "X = pd.get_dummies(X, drop_first=True)  # Convert categorical variables into dummy/indicator variables\n",
        "\n",
        "# Split the data into training and test sets\n",
        "X_train, X_test, y_train, y_test = train_test_split(X, y, test_size=0.3, random_state=42, stratify=y)\n",
        "\n",
        "# Handling class imbalance using SMOTE and RandomUnderSampler\n",
        "resampling = Pipeline([\n",
        "    ('oversample', SMOTE(random_state=42)),\n",
        "    ('undersample', RandomUnderSampler(random_state=42))\n",
        "])\n",
        "\n",
        "# Apply resampling to the training set\n",
        "X_resampled, y_resampled = resampling.fit_resample(X_train, y_train)\n",
        "\n",
        "# Create and train the XGBoost model\n",
        "model = xgb.XGBClassifier(use_label_encoder=False, eval_metric='mlogloss')\n",
        "model.fit(X_resampled, y_resampled)\n",
        "\n",
        "# Make predictions\n",
        "y_pred = model.predict(X_test)\n",
        "\n",
        "# Evaluate the model\n",
        "print(\"Accuracy:\", accuracy_score(y_test, y_pred))\n",
        "print(\"Classification Report:\")\n",
        "print(classification_report(y_test, y_pred))\n",
        "\n",
        "# Compute the confusion matrix\n",
        "cm = confusion_matrix(y_test, y_pred)\n",
        "\n",
        "# Plot the confusion matrix as a heatmap\n",
        "plt.figure(figsize=(8, 6))\n",
        "sns.heatmap(cm, annot=True, fmt='d', cmap='Blues', cbar=False)\n",
        "plt.title('Confusion Matrix')\n",
        "plt.xlabel('Predicted')\n",
        "plt.ylabel('Actual')\n",
        "plt.show()\n",
        "\n",
        "# Visualize the class distribution in the original and resampled datasets\n",
        "plt.figure(figsize=(12, 6))\n",
        "plt.subplot(1, 2, 1)\n",
        "sns.countplot(x=y_train)\n",
        "plt.title('Original Class Distribution (Train)')\n",
        "plt.subplot(1, 2, 2)\n",
        "sns.countplot(x=y_resampled)\n",
        "plt.title('Resampled Class Distribution (Train)')\n",
        "plt.show()\n"
      ],
      "metadata": {
        "colab": {
          "base_uri": "https://localhost:8080/",
          "height": 1000
        },
        "id": "9RgFUx6Fbdna",
        "outputId": "b2588d06-0f41-4797-c694-79d0ec262fb1"
      },
      "execution_count": null,
      "outputs": [
        {
          "output_type": "stream",
          "name": "stdout",
          "text": [
            "Columns in the dataset: Index(['Unnamed: 0', 'age', 'job', 'marital', 'education', 'default',\n",
            "       'balance', 'housing', 'loan', 'day', 'month', 'duration', 'campaign',\n",
            "       'pdays', 'previous', 'poutcome', 'response', 'response_binary'],\n",
            "      dtype='object')\n",
            "Unnamed: 0           int64\n",
            "age                  int64\n",
            "job                 object\n",
            "marital             object\n",
            "education           object\n",
            "default             object\n",
            "balance              int64\n",
            "housing             object\n",
            "loan                object\n",
            "day                  int64\n",
            "month               object\n",
            "duration           float64\n",
            "campaign             int64\n",
            "pdays                int64\n",
            "previous             int64\n",
            "poutcome            object\n",
            "response            object\n",
            "response_binary      int64\n",
            "dtype: object\n"
          ]
        },
        {
          "output_type": "stream",
          "name": "stderr",
          "text": [
            "/usr/local/lib/python3.10/dist-packages/xgboost/core.py:158: UserWarning: [01:51:30] WARNING: /workspace/src/learner.cc:740: \n",
            "Parameters: { \"use_label_encoder\" } are not used.\n",
            "\n",
            "  warnings.warn(smsg, UserWarning)\n"
          ]
        },
        {
          "output_type": "stream",
          "name": "stdout",
          "text": [
            "Accuracy: 0.8945564351587366\n",
            "Classification Report:\n",
            "              precision    recall  f1-score   support\n",
            "\n",
            "           0       0.92      0.97      0.94     10861\n",
            "           1       0.57      0.30      0.39      1392\n",
            "\n",
            "    accuracy                           0.89     12253\n",
            "   macro avg       0.74      0.63      0.67     12253\n",
            "weighted avg       0.88      0.89      0.88     12253\n",
            "\n"
          ]
        },
        {
          "output_type": "display_data",
          "data": {
            "text/plain": [
              "<Figure size 800x600 with 1 Axes>"
            ],
            "image/png": "[encoded data removed]"
          },
          "metadata": {}
        },
        {
          "output_type": "display_data",
          "data": {
            "text/plain": [
              "<Figure size 1200x600 with 2 Axes>"
            ],
            "image/png": "[encoded data removed]"
          },
          "metadata": {}
        }
      ]
    },
    {
      "cell_type": "code",
      "source": [
        "print(data.columns)\n"
      ],
      "metadata": {
        "colab": {
          "base_uri": "https://localhost:8080/"
        },
        "id": "oH7G5K7QbgpY",
        "outputId": "5e7f6beb-4a04-49fb-c7b9-3b2b317536fb"
      },
      "execution_count": null,
      "outputs": [
        {
          "output_type": "stream",
          "name": "stdout",
          "text": [
            "Index(['Unnamed: 0', 'age', 'job', 'marital', 'education', 'default',\n",
            "       'balance', 'housing', 'loan', 'day', 'month', 'campaign', 'pdays',\n",
            "       'previous', 'poutcome', 'response', 'response_binary',\n",
            "       'contact_frequency'],\n",
            "      dtype='object')\n"
          ]
        }
      ]
    },
    {
      "cell_type": "code",
      "source": [
        "import pandas as pd\n",
        "from sklearn.model_selection import train_test_split\n",
        "from sklearn.preprocessing import LabelEncoder\n",
        "from imblearn.over_sampling import SMOTE\n",
        "import xgboost as xgb\n",
        "from sklearn.metrics import accuracy_score, classification_report, confusion_matrix\n",
        "import matplotlib.pyplot as plt\n",
        "import seaborn as sns\n",
        "\n",
        "# Load the dataset\n",
        "file_path = '/content/bank_cleaned.csv'\n",
        "data = pd.read_csv(file_path)\n",
        "\n",
        "# Data Preprocessing\n",
        "data = data.drop(['Unnamed: 0', 'duration'], axis=1)\n",
        "\n",
        "# Encode the response variable\n",
        "le_response = LabelEncoder()\n",
        "data['response_binary'] = le_response.fit_transform(data['response'])\n",
        "\n",
        "# Prepare features and target\n",
        "X = data.drop(['response', 'response_binary'], axis=1)\n",
        "y = data['response_binary']\n",
        "\n",
        "# Encode categorical features\n",
        "for col in X.select_dtypes(include=['object']).columns:\n",
        "    le = LabelEncoder()\n",
        "    X[col] = le.fit_transform(X[col])\n",
        "\n",
        "# Check class distribution\n",
        "print(\"Class distribution before resampling:\")\n",
        "print(y.value_counts())\n",
        "\n",
        "# Split the data into training and test sets\n",
        "X_train, X_test, y_train, y_test = train_test_split(X, y, test_size=0.3, random_state=42, stratify=y)\n",
        "\n",
        "# Handle Class Imbalance with SMOTE\n",
        "smote = SMOTE(random_state=42)\n",
        "X_resampled, y_resampled = smote.fit_resample(X_train, y_train)\n",
        "\n",
        "# Check class distribution after SMOTE\n",
        "print(\"Class distribution after resampling:\")\n",
        "print(pd.Series(y_resampled).value_counts())\n",
        "\n",
        "# Create and train the XGBoost model\n",
        "model = xgb.XGBClassifier(use_label_encoder=False, eval_metric='mlogloss')\n",
        "model.fit(X_resampled, y_resampled)\n",
        "\n",
        "# Make predictions\n",
        "y_pred = model.predict(X_test)\n",
        "\n",
        "# Evaluate the model\n",
        "print(\"Accuracy:\", accuracy_score(y_test, y_pred))\n",
        "print(\"Classification Report:\")\n",
        "print(classification_report(y_test, y_pred))\n",
        "\n",
        "# Confusion Matrix Heatmap\n",
        "cm = confusion_matrix(y_test, y_pred)\n",
        "plt.figure(figsize=(8, 6))\n",
        "sns.heatmap(cm, annot=True, fmt='d', cmap='Blues', cbar=False)\n",
        "plt.title('Confusion Matrix')\n",
        "plt.xlabel('Predicted')\n",
        "plt.ylabel('Actual')\n",
        "plt.show()\n"
      ],
      "metadata": {
        "colab": {
          "base_uri": "https://localhost:8080/",
          "height": 998
        },
        "id": "FP5mdzGtisXK",
        "outputId": "228892dc-85a1-4c77-f10a-552bfa39be26"
      },
      "execution_count": null,
      "outputs": [
        {
          "output_type": "stream",
          "name": "stdout",
          "text": [
            "Class distribution before resampling:\n",
            "response_binary\n",
            "0    36202\n",
            "1     4639\n",
            "Name: count, dtype: int64\n",
            "Class distribution after resampling:\n",
            "response_binary\n",
            "0    25341\n",
            "1    25341\n",
            "Name: count, dtype: int64\n"
          ]
        },
        {
          "output_type": "stream",
          "name": "stderr",
          "text": [
            "/usr/local/lib/python3.10/dist-packages/xgboost/core.py:158: UserWarning: [02:03:57] WARNING: /workspace/src/learner.cc:740: \n",
            "Parameters: { \"use_label_encoder\" } are not used.\n",
            "\n",
            "  warnings.warn(smsg, UserWarning)\n"
          ]
        },
        {
          "output_type": "stream",
          "name": "stdout",
          "text": [
            "Accuracy: 0.8373459560923855\n",
            "Classification Report:\n",
            "              precision    recall  f1-score   support\n",
            "\n",
            "           0       0.92      0.89      0.91     10861\n",
            "           1       0.33      0.44      0.38      1392\n",
            "\n",
            "    accuracy                           0.84     12253\n",
            "   macro avg       0.63      0.66      0.64     12253\n",
            "weighted avg       0.86      0.84      0.85     12253\n",
            "\n"
          ]
        },
        {
          "output_type": "display_data",
          "data": {
            "text/plain": [
              "<Figure size 800x600 with 1 Axes>"
            ],
            "image/png": "[encoded data removed]"
          },
          "metadata": {}
        }
      ]
    },
    {
      "cell_type": "code",
      "source": [
        "import pandas as pd\n",
        "\n",
        "# Load the dataset\n",
        "file_path = '/content/bank_cleaned.csv'  # Update this path if necessary\n",
        "data = pd.read_csv(file_path)\n",
        "\n",
        "# Select the response column\n",
        "response_column = data['response']\n",
        "\n",
        "# Display the first few rows of the response column\n",
        "print(response_column.head())\n"
      ],
      "metadata": {
        "colab": {
          "base_uri": "https://localhost:8080/"
        },
        "id": "v11vwPPRl5Vq",
        "outputId": "6969b89c-2f09-422f-8cc1-5143b9fbe585"
      },
      "execution_count": null,
      "outputs": [
        {
          "output_type": "stream",
          "name": "stdout",
          "text": [
            "0    no\n",
            "1    no\n",
            "2    no\n",
            "3    no\n",
            "4    no\n",
            "Name: response, dtype: object\n"
          ]
        }
      ]
    },
    {
      "cell_type": "code",
      "source": [
        "# Calculate the number of 'yes' and 'no' in the response column\n",
        "response_counts = data['response'].value_counts()\n",
        "\n",
        "# Display the counts\n",
        "print(\"Counts of response:\")\n",
        "print(response_counts)\n"
      ],
      "metadata": {
        "colab": {
          "base_uri": "https://localhost:8080/"
        },
        "id": "dbmbPPeKoFNr",
        "outputId": "0af769da-eb18-4495-b891-a077ff837a0a"
      },
      "execution_count": null,
      "outputs": [
        {
          "output_type": "stream",
          "name": "stdout",
          "text": [
            "Counts of response:\n",
            "response\n",
            "no     36202\n",
            "yes     4639\n",
            "Name: count, dtype: int64\n"
          ]
        }
      ]
    },
    {
      "cell_type": "code",
      "source": [
        "import pandas as pd\n",
        "from sklearn.model_selection import train_test_split\n",
        "from sklearn.preprocessing import LabelEncoder, OneHotEncoder\n",
        "from imblearn.over_sampling import SMOTE\n",
        "import xgboost as xgb\n",
        "from sklearn.metrics import accuracy_score, classification_report\n",
        "import matplotlib.pyplot as plt\n",
        "import seaborn as sns\n",
        "\n",
        "# Load the dataset\n",
        "file_path = '/content/bank_cleaned.csv'  # Update this path if necessary\n",
        "data = pd.read_csv(file_path)\n",
        "\n",
        "# Select the response column\n",
        "response_column = data['response']\n",
        "\n",
        "# Display the first few rows of the response column\n",
        "print(response_column.head())\n",
        "\n",
        "# Calculate the number of 'yes' and 'no' in the response column\n",
        "response_counts = data['response'].value_counts()\n",
        "print(\"Counts of response:\")\n",
        "print(response_counts)\n",
        "\n",
        "# Encode the response column\n",
        "le = LabelEncoder()\n",
        "data['response_binary'] = le.fit_transform(data['response'])\n",
        "\n",
        "# Prepare features and target variable\n",
        "X = data.drop(['response', 'response_binary'], axis=1)\n",
        "y = data['response_binary']\n",
        "\n",
        "# Convert categorical variables to numerical\n",
        "X = pd.get_dummies(X, drop_first=True)\n",
        "\n",
        "# Split the data into training and test sets\n",
        "X_train, X_test, y_train, y_test = train_test_split(X, y, test_size=0.3, random_state=42, stratify=y)\n",
        "\n",
        "# Handle Class Imbalance with SMOTE\n",
        "smote = SMOTE(random_state=42)\n",
        "X_resampled, y_resampled = smote.fit_resample(X_train, y_train)\n",
        "\n",
        "# Check class distribution after SMOTE\n",
        "print(\"Class distribution after resampling:\")\n",
        "print(pd.Series(y_resampled).value_counts())\n",
        "\n",
        "# Create and train the XGBoost model\n",
        "model = xgb.XGBClassifier(use_label_encoder=False, eval_metric='mlogloss')\n",
        "model.fit(X_resampled, y_resampled)\n",
        "\n",
        "# Make predictions\n",
        "y_pred = model.predict(X_test)\n",
        "\n",
        "# Evaluate the model\n",
        "print(\"Accuracy:\", accuracy_score(y_test, y_pred))\n",
        "print(\"Classification Report:\")\n",
        "print(classification_report(y_test, y_pred))\n",
        "\n",
        "# Confusion Matrix Heatmap\n",
        "from sklearn.metrics import confusion_matrix\n",
        "\n",
        "# Compute the confusion matrix\n",
        "cm = confusion_matrix(y_test, y_pred)\n",
        "\n",
        "# Plot the confusion matrix as a heatmap\n",
        "plt.figure(figsize=(8, 6))\n",
        "sns.heatmap(cm, annot=True, fmt='d', cmap='Blues', cbar=False)\n",
        "plt.title('Confusion Matrix')\n",
        "plt.xlabel('Predicted')\n",
        "plt.ylabel('Actual')\n",
        "plt.show()\n"
      ],
      "metadata": {
        "colab": {
          "base_uri": "https://localhost:8080/",
          "height": 1000
        },
        "id": "yRxl0S4aoirV",
        "outputId": "2a34fda9-575d-4a68-eb1c-2a593a156277"
      },
      "execution_count": null,
      "outputs": [
        {
          "output_type": "stream",
          "name": "stdout",
          "text": [
            "0    no\n",
            "1    no\n",
            "2    no\n",
            "3    no\n",
            "4    no\n",
            "Name: response, dtype: object\n",
            "Counts of response:\n",
            "response\n",
            "no     36202\n",
            "yes     4639\n",
            "Name: count, dtype: int64\n",
            "Class distribution after resampling:\n",
            "response_binary\n",
            "0    25341\n",
            "1    25341\n",
            "Name: count, dtype: int64\n"
          ]
        },
        {
          "output_type": "stream",
          "name": "stderr",
          "text": [
            "/usr/local/lib/python3.10/dist-packages/xgboost/core.py:158: UserWarning: [04:24:08] WARNING: /workspace/src/learner.cc:740: \n",
            "Parameters: { \"use_label_encoder\" } are not used.\n",
            "\n",
            "  warnings.warn(smsg, UserWarning)\n"
          ]
        },
        {
          "output_type": "stream",
          "name": "stdout",
          "text": [
            "Accuracy: 0.9111238064147555\n",
            "Classification Report:\n",
            "              precision    recall  f1-score   support\n",
            "\n",
            "           0       0.95      0.95      0.95     10861\n",
            "           1       0.60      0.64      0.62      1392\n",
            "\n",
            "    accuracy                           0.91     12253\n",
            "   macro avg       0.78      0.79      0.79     12253\n",
            "weighted avg       0.91      0.91      0.91     12253\n",
            "\n"
          ]
        },
        {
          "output_type": "display_data",
          "data": {
            "text/plain": [
              "<Figure size 800x600 with 1 Axes>"
            ],
            "image/png": "[encoded data removed]"
          },
          "metadata": {}
        }
      ]
    },
    {
      "cell_type": "code",
      "source": [],
      "metadata": {
        "id": "48I6o0HVpYnL"
      },
      "execution_count": null,
      "outputs": []
    }
  ]
}